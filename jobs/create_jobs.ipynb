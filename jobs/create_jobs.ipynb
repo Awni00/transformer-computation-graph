{
 "cells": [
  {
   "cell_type": "code",
   "execution_count": 8,
   "metadata": {},
   "outputs": [
    {
     "data": {
      "text/plain": [
       "True"
      ]
     },
     "execution_count": 8,
     "metadata": {},
     "output_type": "execute_result"
    }
   ],
   "source": [
    "import os\n",
    "import itertools\n",
    "from dotenv import load_dotenv\n",
    "\n",
    "load_dotenv()"
   ]
  },
  {
   "cell_type": "code",
   "execution_count": 9,
   "metadata": {},
   "outputs": [],
   "source": [
    "def mkdir(dir):\n",
    "    if not os.path.exists(dir):\n",
    "        os.mkdir(dir)"
   ]
  },
  {
   "cell_type": "code",
   "execution_count": 10,
   "metadata": {},
   "outputs": [],
   "source": [
    "\n",
    "# global job parameters\n",
    "\n",
    "job_directory = f\"computation-graph\"\n",
    "out_dir = f'{job_directory}/.out'\n",
    "time_str = '00-48:00:00'\n",
    "partition = 'gpu'\n",
    "ntasks = 1\n",
    "nodes = 1\n",
    "cpu_per_gpu = 8\n",
    "mem_per_cpu = 16\n",
    "n_gpus = 1\n",
    "\n",
    "# gpus_constraints = '\"a100|rtx3090|v100|rtx2080ti\"' # for grace\n",
    "gpus_constraints = \"a40\" #'\"h100|a100\"' # for misha\n",
    "\n",
    "netid = os.getenv('NETID')\n",
    "project_dir = f\"/home/{netid}/project/transformer-computation-graph/experiments\"\n",
    "\n",
    "mkdir(job_directory)\n",
    "mkdir(out_dir)"
   ]
  },
  {
   "cell_type": "code",
   "execution_count": 11,
   "metadata": {},
   "outputs": [],
   "source": [
    "wandb_project = 'transformer-computation-graph'\n",
    "compile = False\n",
    "\n",
    "weight_decay = 0.05\n",
    "lr = 0.002\n",
    "\n",
    "jobs_params = [\n",
    "    dict(d_model=384, n_layers=6, train_cumulative=True),\n",
    "    dict(d_model=384, n_layers=8, train_cumulative=True),\n",
    "    dict(d_model=768, n_layers=12, n_heads=12, train_cumulative=True),\n",
    "]\n",
    "\n",
    "# generate run names\n",
    "for j in jobs_params:\n",
    "    j['run_name'] = f\"{'_'.join([f'{k}={v}' for k, v in j.items()])}\""
   ]
  },
  {
   "cell_type": "code",
   "execution_count": 12,
   "metadata": {},
   "outputs": [],
   "source": [
    "# create jobs\n",
    "created_jobs = []\n",
    "for params in jobs_params:\n",
    "\n",
    "    job_file = os.path.join(job_directory, f\"{params['run_name']}.job\")\n",
    "\n",
    "    with open(job_file, 'w') as fh:\n",
    "        fh.writelines(f\"#!/bin/bash\\n\")\n",
    "        fh.writelines(f\"#SBATCH --partition={partition}\\n\")\n",
    "        fh.writelines(f\"#SBATCH --job-name={params['run_name']}\\n\")\n",
    "        fh.writelines(f\"#SBATCH --output={out_dir}/%j-{params['run_name']}.out\\n\")\n",
    "        fh.writelines(f\"#SBATCH --ntasks={ntasks} --nodes={nodes}\\n\")\n",
    "        fh.writelines(f\"#SBATCH --cpus-per-gpu={cpu_per_gpu}\\n\")\n",
    "        fh.writelines(f\"#SBATCH --mem-per-cpu={mem_per_cpu}G\\n\")\n",
    "        fh.writelines(f\"#SBATCH --time={time_str}\\n\")\n",
    "        fh.writelines(f\"#SBATCH --mail-type=ALL\\n\")\n",
    "        fh.writelines(f\"#SBATCH --gpus={n_gpus}\\n\")\n",
    "        if 'gpus_constraints' in params:\n",
    "            fh.writelines(f\"#SBATCH --constraint={params['gpus_constraints']}\\n\")\n",
    "\n",
    "        fh.writelines('\\n')\n",
    "        fh.writelines('module load StdEnv\\n')\n",
    "        fh.writelines('export SLURM_EXPORT_ENV=ALL\\n')\n",
    "        fh.writelines('\\n')\n",
    "\n",
    "        # fh.writelines(f\"module restore python_env\\n\") # load modules i need\n",
    "        fh.writelines(f\"module load miniconda\\n\") # load modules i need\n",
    "        # fh.writelines(f\"conda init\\n\")\n",
    "        fh.writelines(f\"conda activate computation_graph\\n\") # activate conda environment\n",
    "        fh.writelines(f\"conda info --envs\\n\") # activate conda environment\n",
    "\n",
    "        fh.writelines('\\n')\n",
    "        fh.writelines(f\"nvidia-smi -L\\n\") # print gpu information\n",
    "        fh.writelines('\\n')\n",
    "\n",
    "        fh.writelines(f\"cd {project_dir}\\n\") # navigate to project directory\n",
    "        fh.writelines('\\n')\n",
    "\n",
    "        # add .. to python path\n",
    "        fh.writelines('export PYTHONPATH=\"${PYTHONPATH}:..\"\\n')\n",
    "        fh.writelines('\\n')\n",
    "\n",
    "        # run python script\n",
    "        fh.writelines(f\"python train.py \\\\\\n\")\n",
    "        if 'd_model' in params:\n",
    "            fh.writelines(f\"\\t--d_model {params['d_model']} \\\\\\n\")\n",
    "        if 'n_heads' in params:\n",
    "            fh.writelines(f\"\\t--n_heads {params['n_heads']} \\\\\\n\")\n",
    "        if 'n_layers' in params:\n",
    "            fh.writelines(f\"\\t--n_layers {params['n_layers']} \\\\\\n\")\n",
    "\n",
    "        fh.writelines(f\"\\t--lr {lr} \\\\\\n\")\n",
    "        fh.writelines(f\"\\t--weight_decay {weight_decay} \\\\\\n\")\n",
    "\n",
    "        if params.get('train_cumulative', False):\n",
    "            fh.writelines(f\"\\t--train_cumulative \\\\\\n\")\n",
    "        if compile:\n",
    "            fh.writelines(f\"\\t--compile \\\\\\n\")\n",
    "\n",
    "        fh.writelines(f\"\\t--wandb_project {wandb_project} \\\\\\n\")\n",
    "\n",
    "    created_jobs.append(job_file)"
   ]
  },
  {
   "cell_type": "code",
   "execution_count": 13,
   "metadata": {},
   "outputs": [
    {
     "data": {
      "text/plain": [
       "['computation-graph/d_model=384_n_layers=6_train_cumulative=True.job',\n",
       " 'computation-graph/d_model=384_n_layers=8_train_cumulative=True.job',\n",
       " 'computation-graph/d_model=768_n_layers=12_n_heads=12_train_cumulative=True.job']"
      ]
     },
     "execution_count": 13,
     "metadata": {},
     "output_type": "execute_result"
    }
   ],
   "source": [
    "created_jobs"
   ]
  },
  {
   "cell_type": "code",
   "execution_count": 14,
   "metadata": {},
   "outputs": [
    {
     "name": "stdout",
     "output_type": "stream",
     "text": [
      "Submitted batch job 34821\n",
      "Submitted batch job 34822\n",
      "Submitted batch job 34823\n"
     ]
    }
   ],
   "source": [
    "confirm = input(\"CONTINUE TO RUN ALL JOBS?\")\n",
    "if confirm == 'y':\n",
    "    for job in created_jobs:\n",
    "        os.system(f'sbatch {job}')\n",
    "else:\n",
    "    print('JOBS NOT SUBMITTED')"
   ]
  }
 ],
 "metadata": {
  "kernelspec": {
   "display_name": "Python 3",
   "language": "python",
   "name": "python3"
  },
  "language_info": {
   "codemirror_mode": {
    "name": "ipython",
    "version": 3
   },
   "file_extension": ".py",
   "mimetype": "text/x-python",
   "name": "python",
   "nbconvert_exporter": "python",
   "pygments_lexer": "ipython3",
   "version": "3.11.10"
  }
 },
 "nbformat": 4,
 "nbformat_minor": 2
}
