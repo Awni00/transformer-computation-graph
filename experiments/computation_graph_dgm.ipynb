{
 "cells": [
  {
   "cell_type": "markdown",
   "metadata": {},
   "source": [
    "# Data Generation Process for Computation Graph Task"
   ]
  },
  {
   "cell_type": "code",
   "execution_count": 1,
   "metadata": {},
   "outputs": [],
   "source": [
    "import numpy as np\n",
    "import string\n",
    "import random"
   ]
  },
  {
   "cell_type": "code",
   "execution_count": 2,
   "metadata": {},
   "outputs": [],
   "source": [
    "n_funcs = 5 # number of functions\n",
    "mod_val = 16 # modulo value for numeric values\n",
    "\n",
    "func_vocab = [f'func{i}' for i in range(1, n_funcs+1)]\n",
    "var_vocab = list(string.ascii_lowercase) # letters a-z\n",
    "operand_vocab = [',', '(', ')']\n",
    "numeric_vocab = [str(i) for i in range(mod_val)]\n",
    "equal_token = '->'\n",
    "query_token = '<query>'\n",
    "answer_token = '<answer>'\n",
    "eq_sep_token = '<eq_sep>'\n",
    "sep_token = '<sep>'\n",
    "\n",
    "# these are \"special tokens\"\n",
    "eos_token = '<eos>'\n",
    "pad_token = '<pad>'\n",
    "unk_token = '<unk>'\n",
    "\n",
    "vocab = operand_vocab + func_vocab + var_vocab + numeric_vocab + [equal_token, query_token, answer_token, sep_token]\n",
    "\n",
    "class Tokenizer():\n",
    "    def __init__(self, vocab, unk_token=unk_token, pad_token=pad_token, eos_token=eos_token):\n",
    "        self.vocab = vocab + [unk_token, pad_token, eos_token]\n",
    "\n",
    "        self.unk_token = unk_token\n",
    "        self.pad_token = pad_token\n",
    "        self.eos_token = eos_token\n",
    "\n",
    "        self.tok2idx = {tok: idx for idx, tok in enumerate(self.vocab)}\n",
    "        self.idx2tok = {idx: tok for idx, tok in enumerate(self.vocab)}\n",
    "\n",
    "        self.unk_token_idx = self.tok2idx[self.unk_token]\n",
    "\n",
    "    def encode_tokens(self, list_tokens):\n",
    "        return [self.tok2idx.get(tok, self.tok2idx[self.unk_token]) for tok in list_tokens]\n",
    "\n",
    "    def decode_tokens(self, list_indices):\n",
    "        return [self.idx2tok.get(idx, self.unk_token) for idx in list_indices]\n",
    "\n",
    "    def encode_string(self, string, sep=' '):\n",
    "        return self.encode_tokens(string.split(sep))\n",
    "\n",
    "tokenizer = Tokenizer(vocab)"
   ]
  },
  {
   "cell_type": "code",
   "execution_count": 3,
   "metadata": {},
   "outputs": [],
   "source": [
    "# a naive way to randomly sample a computation graph\n",
    "\n",
    "def sample_computation_graph_example(n_vars, func_degree, verbose=False):\n",
    "\n",
    "    # first, sample a topological order of variables for computation DAG\n",
    "    var_top_order = list(np.random.choice(var_vocab, size=n_vars, replace=False))\n",
    "\n",
    "    edges = [] # for storing edges in DAG\n",
    "    func_annotations = dict() # for storing function annotations for each variable\n",
    "    prompt = [] # for storing prompt\n",
    "\n",
    "    if verbose:\n",
    "        print(f'topological order of variables in DAG: {var_top_order}')\n",
    "\n",
    "    for idx, var in enumerate(var_top_order):\n",
    "        # check if leaf node\n",
    "        if idx < func_degree: # for now, first func_degree variables are leaf nodes (because too few possible children)\n",
    "            var_val = np.random.choice(numeric_vocab)\n",
    "            edges.append((var_val, var))\n",
    "            func_annotations[var] = \"leafValueAssignment\"\n",
    "            prompt += [var_val, equal_token, var, eq_sep_token]\n",
    "            if verbose:\n",
    "                print(f'{var} <- {var_val}')\n",
    "        # if not leaf node, children are randomly chosen from preceeding variables (wrt topological order)\n",
    "        # node is a randomly-selected function of its children\n",
    "        else:\n",
    "            # randomly sample children from preceeding variables\n",
    "            children = np.random.choice(var_top_order[:idx], size=func_degree, replace=False).tolist()\n",
    "\n",
    "            # randomly sample function\n",
    "            func = np.random.choice(func_vocab)\n",
    "            func_annotations[var] = func\n",
    "\n",
    "            for child in children:\n",
    "                edges.append((child, var))\n",
    "\n",
    "            prompt += [func, '('] + list(','.join(children)) + [')'] + [equal_token, var, eq_sep_token]\n",
    "\n",
    "            if verbose:\n",
    "                print(f'{var} <- {func}({\", \".join(children)})')\n",
    "\n",
    "    if verbose:\n",
    "        print()\n",
    "        print(f\"prompt: {' '.join(prompt)}\")\n",
    "\n",
    "    return dict(prompt=prompt, edges=edges, func_annotations=func_annotations, var_top_order=var_top_order)"
   ]
  },
  {
   "cell_type": "code",
   "execution_count": 4,
   "metadata": {},
   "outputs": [
    {
     "name": "stdout",
     "output_type": "stream",
     "text": [
      "topological order of variables in DAG: ['e', 'x', 'b', 'c', 'r', 'i']\n",
      "e <- 4\n",
      "x <- 9\n",
      "b <- func5(e, x)\n",
      "c <- func4(e, x)\n",
      "r <- func5(b, x)\n",
      "i <- func1(x, e)\n",
      "\n",
      "prompt: 4 -> e <eq_sep> 9 -> x <eq_sep> func5 ( e , x ) -> b <eq_sep> func4 ( e , x ) -> c <eq_sep> func5 ( b , x ) -> r <eq_sep> func1 ( x , e ) -> i <eq_sep>\n"
     ]
    }
   ],
   "source": [
    "n_vars = 6\n",
    "func_degree = 2 # for now, all functions have same degree\n",
    "\n",
    "sample = sample_computation_graph_example(n_vars, func_degree, verbose=True)\n",
    "prompt, edges, func_annotations, var_top_order = sample['prompt'], sample['edges'], sample['func_annotations'], sample['var_top_order']"
   ]
  },
  {
   "cell_type": "code",
   "execution_count": 5,
   "metadata": {},
   "outputs": [
    {
     "name": "stdout",
     "output_type": "stream",
     "text": [
      "is DAG: True\n"
     ]
    },
    {
     "data": {
      "image/png": "[encoded data removed]",
      "text/plain": [
       "<Figure size 640x480 with 1 Axes>"
      ]
     },
     "metadata": {},
     "output_type": "display_data"
    }
   ],
   "source": [
    "# draw\n",
    "import networkx as nx\n",
    "\n",
    "G = nx.from_edgelist(edges, create_using=nx.DiGraph)\n",
    "nx.set_node_attributes(G, func_annotations, 'func')\n",
    "print(f'is DAG: {nx.is_directed_acyclic_graph(G)}')\n",
    "\n",
    "nx.draw_planar(G, with_labels=True, )"
   ]
  },
  {
   "cell_type": "code",
   "execution_count": 6,
   "metadata": {},
   "outputs": [],
   "source": [
    "import matplotlib.pyplot as plt"
   ]
  },
  {
   "cell_type": "code",
   "execution_count": 7,
   "metadata": {},
   "outputs": [],
   "source": [
    "# draw DAG according to topological order\n",
    "\n",
    "def draw_topological_order(G, top_order, rad=-0.8, figsize=(8,4), orientation='horizontal'):\n",
    "    numeric_nodes = [node for node in G.nodes() if node in numeric_vocab]\n",
    "    top_order = numeric_nodes + top_order\n",
    "\n",
    "    if orientation == 'horizontal':\n",
    "        pos = {node:(top_order.index(node),0) for node in G.nodes()}\n",
    "    else:\n",
    "        pos = {node:(0,top_order.index(node)) for node in G.nodes()}\n",
    "\n",
    "    fig, ax = plt.subplots(figsize=figsize)\n",
    "    for edge in G.edges():\n",
    "        source, target = edge\n",
    "        rad = 0.8\n",
    "        rad = rad if top_order.index(source)%2 else -rad\n",
    "        ax.annotate(\"\",\n",
    "                    xy=pos[source],\n",
    "                    xytext=pos[target],\n",
    "                    arrowprops=dict(arrowstyle=\"->\", color=\"black\",\n",
    "                                    connectionstyle=f\"arc3,rad={rad}\",\n",
    "                                    alpha=0.6,\n",
    "                                    linewidth=1.5))\n",
    "    nx.draw_networkx_nodes(G, pos=pos, node_size=500, node_color='black')\n",
    "    nx.draw_networkx_labels(G, pos=pos, font_color='white')\n",
    "    plt.box(False)\n",
    "    return fig, ax\n"
   ]
  },
  {
   "cell_type": "code",
   "execution_count": 8,
   "metadata": {},
   "outputs": [
    {
     "data": {
      "image/png": "[encoded data removed]",
      "text/plain": [
       "<Figure size 800x400 with 1 Axes>"
      ]
     },
     "metadata": {},
     "output_type": "display_data"
    }
   ],
   "source": [
    "fig, ax = draw_topological_order(G, var_top_order)"
   ]
  },
  {
   "cell_type": "markdown",
   "metadata": {},
   "source": [
    "# generate prompt from graph"
   ]
  },
  {
   "cell_type": "code",
   "execution_count": 9,
   "metadata": {},
   "outputs": [
    {
     "name": "stdout",
     "output_type": "stream",
     "text": [
      "topological order of variables in DAG: ['q', 'f', 's', 'b', 'r', 'm']\n",
      "q <- 7\n",
      "f <- 0\n",
      "s <- func1(q, f)\n",
      "b <- func4(s, q)\n",
      "r <- func4(q, b)\n",
      "m <- func1(f, b)\n",
      "\n",
      "prompt: 7 -> q <eq_sep> 0 -> f <eq_sep> func1 ( q , f ) -> s <eq_sep> func4 ( s , q ) -> b <eq_sep> func4 ( q , b ) -> r <eq_sep> func1 ( f , b ) -> m <eq_sep>\n"
     ]
    }
   ],
   "source": [
    "n_vars = 6\n",
    "func_degree = 2 # for now, all functions have same degree\n",
    "\n",
    "sample = sample_computation_graph_example(n_vars, func_degree, verbose=True)\n",
    "prompt, edges, func_annotations, var_top_order = sample['prompt'], sample['edges'], sample['func_annotations'], sample['var_top_order']"
   ]
  },
  {
   "cell_type": "code",
   "execution_count": 10,
   "metadata": {},
   "outputs": [
    {
     "data": {
      "text/plain": [
       "NodeView(('4', 'e', '9', 'x', 'b', 'c', 'r', 'i'))"
      ]
     },
     "execution_count": 10,
     "metadata": {},
     "output_type": "execute_result"
    }
   ],
   "source": [
    "G.nodes()"
   ]
  },
  {
   "cell_type": "code",
   "execution_count": 11,
   "metadata": {},
   "outputs": [],
   "source": [
    "func_map = {func: lambda children: sum(children) % mod_val for func in func_vocab} # NOTE: for now, all functions are sums (TODO: generalize)\n",
    "def leafValueAssignment(children):\n",
    "    if len(children) == 1:\n",
    "        return children[0]\n",
    "    else:\n",
    "        raise ValueError(\"leafValueAssignment function should have exactly one child\")\n",
    "\n",
    "func_map['leafValueAssignment'] = lambda x: x[0]"
   ]
  },
  {
   "cell_type": "code",
   "execution_count": 12,
   "metadata": {},
   "outputs": [
    {
     "data": {
      "text/plain": [
       "{'func1': <function __main__.<dictcomp>.<lambda>(children)>,\n",
       " 'func2': <function __main__.<dictcomp>.<lambda>(children)>,\n",
       " 'func3': <function __main__.<dictcomp>.<lambda>(children)>,\n",
       " 'func4': <function __main__.<dictcomp>.<lambda>(children)>,\n",
       " 'func5': <function __main__.<dictcomp>.<lambda>(children)>,\n",
       " 'leafValueAssignment': <function __main__.<lambda>(x)>}"
      ]
     },
     "execution_count": 12,
     "metadata": {},
     "output_type": "execute_result"
    }
   ],
   "source": [
    "func_map"
   ]
  },
  {
   "cell_type": "code",
   "execution_count": 13,
   "metadata": {},
   "outputs": [],
   "source": [
    "def solve_sample(sample, func_map, verbose=False):\n",
    "    edges = sample['edges']\n",
    "    func_annotations = sample['func_annotations']\n",
    "    var_top_order = sample['var_top_order']\n",
    "\n",
    "    G = nx.from_edgelist(edges, create_using=nx.DiGraph)\n",
    "    nx.set_node_attributes(G, func_annotations, 'func')\n",
    "    node_vals = {node: int(node) if node in numeric_vocab else None for node in G.nodes()}\n",
    "    nx.set_node_attributes(G, node_vals, 'val')\n",
    "\n",
    "    if verbose:\n",
    "        print('initializing node values:')\n",
    "        print(node_vals)\n",
    "        print()\n",
    "        print('now iterating in topological order and solving for the value of each node...')\n",
    "        print()\n",
    "\n",
    "    for var in var_top_order:\n",
    "        children = list(G.predecessors(var)) # NOTE: unintuitively (for me), predecessors are children in this context\n",
    "        par_vals = [node_vals[child] for child in children]\n",
    "        if verbose:\n",
    "            print(f'Children({var}) = {[f\"{p}={pv}\" for p, pv in zip(children, par_vals)]}')\n",
    "        func_name = func_annotations[var]\n",
    "        func = func_map[func_name]\n",
    "        node_vals[var] = func(par_vals)\n",
    "        if verbose:\n",
    "            print(f'{var} <- {func_name}({[node_vals[child] for child in children]}) = {node_vals[var]}')\n",
    "            print()\n",
    "\n",
    "    sample['node_vals'] = node_vals"
   ]
  },
  {
   "cell_type": "code",
   "execution_count": 14,
   "metadata": {},
   "outputs": [
    {
     "name": "stdout",
     "output_type": "stream",
     "text": [
      "initializing node values:\n",
      "{'7': 7, 'q': None, '0': 0, 'f': None, 's': None, 'b': None, 'r': None, 'm': None}\n",
      "\n",
      "now iterating in topological order and solving for the value of each node...\n",
      "\n",
      "Children(q) = ['7=7']\n",
      "q <- leafValueAssignment([7]) = 7\n",
      "\n",
      "Children(f) = ['0=0']\n",
      "f <- leafValueAssignment([0]) = 0\n",
      "\n",
      "Children(s) = ['q=7', 'f=0']\n",
      "s <- func1([7, 0]) = 7\n",
      "\n",
      "Children(b) = ['s=7', 'q=7']\n",
      "b <- func4([7, 7]) = 14\n",
      "\n",
      "Children(r) = ['q=7', 'b=14']\n",
      "r <- func4([7, 14]) = 5\n",
      "\n",
      "Children(m) = ['f=0', 'b=14']\n",
      "m <- func1([0, 14]) = 14\n",
      "\n"
     ]
    },
    {
     "data": {
      "text/plain": [
       "{'7': 7, 'q': 7, '0': 0, 'f': 0, 's': 7, 'b': 14, 'r': 5, 'm': 14}"
      ]
     },
     "execution_count": 14,
     "metadata": {},
     "output_type": "execute_result"
    }
   ],
   "source": [
    "solve_sample(sample, func_map, verbose=True)\n",
    "sample['node_vals']"
   ]
  },
  {
   "cell_type": "code",
   "execution_count": 15,
   "metadata": {},
   "outputs": [
    {
     "data": {
      "text/plain": [
       "'7->q<eq_sep>0->f<eq_sep>func1(q,f)->s<eq_sep>func4(s,q)->b<eq_sep>func4(q,b)->r<eq_sep>func1(f,b)->m<eq_sep>'"
      ]
     },
     "execution_count": 15,
     "metadata": {},
     "output_type": "execute_result"
    }
   ],
   "source": [
    "''.join(prompt)"
   ]
  },
  {
   "cell_type": "code",
   "execution_count": 16,
   "metadata": {},
   "outputs": [],
   "source": [
    "def create_query_prompt(sample, tokenizer_func=None, verbose=False):\n",
    "    query_prompt = sample['prompt'].copy()\n",
    "    node_vals = sample['node_vals']\n",
    "    var_top_order = sample['var_top_order']\n",
    "\n",
    "    query_var = var_top_order[-1] # either last var in computation graph or randomly sample from vars\n",
    "\n",
    "    query_prompt += [query_token, query_var, answer_token, str(node_vals[query_var])]\n",
    "\n",
    "    if verbose:\n",
    "        print(' '.join(prompt))\n",
    "\n",
    "    sample['query_prompt'] = query_prompt\n",
    "    if tokenizer_func is not None:\n",
    "        sample['tokenized_query_prompt'] = tokenizer_func(query_prompt)"
   ]
  },
  {
   "cell_type": "code",
   "execution_count": 17,
   "metadata": {},
   "outputs": [
    {
     "name": "stdout",
     "output_type": "stream",
     "text": [
      "7 -> q <eq_sep> 0 -> f <eq_sep> func1 ( q , f ) -> s <eq_sep> func4 ( s , q ) -> b <eq_sep> func4 ( q , b ) -> r <eq_sep> func1 ( f , b ) -> m <eq_sep>\n"
     ]
    },
    {
     "data": {
      "text/plain": [
       "['7',\n",
       " '->',\n",
       " 'q',\n",
       " '<eq_sep>',\n",
       " '0',\n",
       " '->',\n",
       " 'f',\n",
       " '<eq_sep>',\n",
       " 'func1',\n",
       " '(',\n",
       " 'q',\n",
       " ',',\n",
       " 'f',\n",
       " ')',\n",
       " '->',\n",
       " 's',\n",
       " '<eq_sep>',\n",
       " 'func4',\n",
       " '(',\n",
       " 's',\n",
       " ',',\n",
       " 'q',\n",
       " ')',\n",
       " '->',\n",
       " 'b',\n",
       " '<eq_sep>',\n",
       " 'func4',\n",
       " '(',\n",
       " 'q',\n",
       " ',',\n",
       " 'b',\n",
       " ')',\n",
       " '->',\n",
       " 'r',\n",
       " '<eq_sep>',\n",
       " 'func1',\n",
       " '(',\n",
       " 'f',\n",
       " ',',\n",
       " 'b',\n",
       " ')',\n",
       " '->',\n",
       " 'm',\n",
       " '<eq_sep>',\n",
       " '<query>',\n",
       " 'm',\n",
       " '<answer>',\n",
       " '14']"
      ]
     },
     "execution_count": 17,
     "metadata": {},
     "output_type": "execute_result"
    }
   ],
   "source": [
    "create_query_prompt(sample, tokenizer_func=tokenizer.encode_tokens, verbose=True)\n",
    "sample['query_prompt']"
   ]
  }
 ],
 "metadata": {
  "kernelspec": {
   "display_name": "abstract_transformer",
   "language": "python",
   "name": "python3"
  },
  "language_info": {
   "codemirror_mode": {
    "name": "ipython",
    "version": 3
   },
   "file_extension": ".py",
   "mimetype": "text/x-python",
   "name": "python",
   "nbconvert_exporter": "python",
   "pygments_lexer": "ipython3",
   "version": "3.11.7"
  }
 },
 "nbformat": 4,
 "nbformat_minor": 2
}
